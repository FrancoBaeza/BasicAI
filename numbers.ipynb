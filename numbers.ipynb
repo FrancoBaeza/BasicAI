{
 "cells": [
  {
   "cell_type": "code",
   "execution_count": 4,
   "metadata": {},
   "outputs": [
    {
     "name": "stdout",
     "output_type": "stream",
     "text": [
      "Epoch 1/10\n",
      "600/600 [==============================] - 89s 147ms/step - loss: 0.9175 - accuracy: 0.8108\n",
      "Epoch 2/10\n",
      "600/600 [==============================] - 329s 549ms/step - loss: 0.3379 - accuracy: 0.9062\n",
      "Epoch 3/10\n",
      "600/600 [==============================] - 95s 157ms/step - loss: 0.2792 - accuracy: 0.9210\n",
      "Epoch 4/10\n",
      "600/600 [==============================] - 88s 146ms/step - loss: 0.2451 - accuracy: 0.9306\n",
      "Epoch 5/10\n",
      "600/600 [==============================] - 87s 145ms/step - loss: 0.2203 - accuracy: 0.9379\n",
      "Epoch 6/10\n",
      "600/600 [==============================] - 90s 150ms/step - loss: 0.1997 - accuracy: 0.9438\n",
      "Epoch 7/10\n",
      "600/600 [==============================] - 85s 142ms/step - loss: 0.1825 - accuracy: 0.9492\n",
      "Epoch 8/10\n",
      "600/600 [==============================] - 85s 142ms/step - loss: 0.1680 - accuracy: 0.9520\n",
      "Epoch 9/10\n",
      "600/600 [==============================] - 87s 144ms/step - loss: 0.1545 - accuracy: 0.9565\n",
      "Epoch 10/10\n",
      "600/600 [==============================] - 85s 141ms/step - loss: 0.1433 - accuracy: 0.9595\n",
      "313/313 [==============================] - 7s 21ms/step - loss: 0.1420 - accuracy: 0.9580\n",
      "Test loss: 0.1420421600341797\n",
      "Test accuracy: 0.9580000042915344\n"
     ]
    }
   ],
   "source": [
    "import tensorflow as tf\n",
    "\n",
    "mnist = tf.keras.datasets.mnist\n",
    "\n",
    "(x_train, y_train), (x_test, y_test) = mnist.load_data()\n",
    "x_train = x_train.reshape(x_train.shape[0], 784).astype('float32') / 255\n",
    "x_test = x_test.reshape(x_test.shape[0], 784).astype('float32') / 255\n",
    "\n",
    "learning_rate = 0.01\n",
    "batch_size = 100\n",
    "update_step = 10\n",
    "\n",
    "layer_1_nodes = 4000\n",
    "layer_2_nodes = 4000\n",
    "layer_3_nodes = 4000\n",
    "output_nodes = 60\n",
    "\n",
    "model_input = tf.keras.layers.Input(shape=(784,))\n",
    "layer_1 = tf.keras.layers.Dense(layer_1_nodes, activation='relu')(model_input)\n",
    "layer_2 = tf.keras.layers.Dense(layer_2_nodes, activation='relu')(layer_1)\n",
    "layer_3 = tf.keras.layers.Dense(layer_3_nodes, activation='relu')(layer_2)\n",
    "model_output = tf.keras.layers.Dense(output_nodes, activation='softmax')(layer_3)\n",
    "\n",
    "model = tf.keras.Model(inputs=model_input, outputs=model_output)\n",
    "\n",
    "optimizer = tf.keras.optimizers.SGD(learning_rate)\n",
    "\n",
    "model.compile(optimizer=optimizer, loss='sparse_categorical_crossentropy', metrics=['accuracy'])\n",
    "\n",
    "num_epochs = 10\n",
    "model.fit(x_train, y_train, epochs=num_epochs, batch_size=batch_size)\n",
    "\n",
    "test_loss, test_accuracy = model.evaluate(x_test, y_test)\n",
    "\n",
    "model.save('numbers.h5')\n",
    "\n",
    "print(\"Test loss:\", test_loss)\n",
    "print(\"Test accuracy:\",test_accuracy)"
   ]
  }
 ],
 "metadata": {
  "kernelspec": {
   "display_name": "Python 3",
   "language": "python",
   "name": "python3"
  },
  "language_info": {
   "codemirror_mode": {
    "name": "ipython",
    "version": 3
   },
   "file_extension": ".py",
   "mimetype": "text/x-python",
   "name": "python",
   "nbconvert_exporter": "python",
   "pygments_lexer": "ipython3",
   "version": "3.11.3"
  },
  "orig_nbformat": 4
 },
 "nbformat": 4,
 "nbformat_minor": 2
}
